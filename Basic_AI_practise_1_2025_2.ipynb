{
  "nbformat": 4,
  "nbformat_minor": 0,
  "metadata": {
    "colab": {
      "provenance": [],
      "include_colab_link": true
    },
    "kernelspec": {
      "name": "python3",
      "display_name": "Python 3"
    },
    "language_info": {
      "name": "python"
    }
  },
  "cells": [
    {
      "cell_type": "markdown",
      "metadata": {
        "id": "view-in-github",
        "colab_type": "text"
      },
      "source": [
        "<a href=\"https://colab.research.google.com/github/Kekichka/AI/blob/labs/Basic_AI_practise_1_2025_2.ipynb\" target=\"_parent\"><img src=\"https://colab.research.google.com/assets/colab-badge.svg\" alt=\"Open In Colab\"/></a>"
      ]
    },
    {
      "cell_type": "markdown",
      "source": [
        "**Оцінювання даної роботи буде ураховувати якість Вашого коду та текстових відповідей. При наявності ЛИШЕ коду , робота оцінюватися НЕ БУДЕ.**  \n",
        "\n",
        "**Оформлення текстових відповідей повинно проводитися в текстових комірках ноутбука з використанням синтаксису [LaTeX](https://en.wikibooks.org/wiki/LaTeX/Basics) для оформлення тексту та формул.**\n",
        "\n",
        "**Роботи ідентифіковані як ІДЕНТИЧНІ одразу отримують 0 балів.**\n",
        "\n",
        "**При реалізації завдань потрібно використовувати методи з бібліотеки numpy та pandas.**\n",
        "\n",
        "**Рішення з циклами будуть оцінені в 0 балів.**"
      ],
      "metadata": {
        "id": "fQcvdlwdimQb"
      }
    },
    {
      "cell_type": "markdown",
      "source": [
        "# I. NumPy."
      ],
      "metadata": {
        "id": "UfI7FZudfGwv"
      }
    },
    {
      "cell_type": "markdown",
      "source": [
        "0. Імпортувати numpy загальноприйнятим способом."
      ],
      "metadata": {
        "id": "XmA3PWg8fJxn"
      }
    },
    {
      "cell_type": "code",
      "execution_count": 3,
      "metadata": {
        "id": "JUli5tR8eTXG"
      },
      "outputs": [],
      "source": [
        "import numpy as np"
      ]
    },
    {
      "cell_type": "markdown",
      "source": [
        "1. Визначити список з оцінками студента(ки) за семестр. Використовуючи його, створити одновимірний масив numpy."
      ],
      "metadata": {
        "id": "fppWPwoFjTrl"
      }
    },
    {
      "cell_type": "code",
      "source": [
        "mygrades = [5, 4, 4, 5, 5]\n",
        "mygrades_array = np.array(mygrades)\n",
        "print(\"Hopefully my grades will be like this: \" + str(mygrades_array))"
      ],
      "metadata": {
        "id": "cuvs9lNAjVoB",
        "colab": {
          "base_uri": "https://localhost:8080/"
        },
        "outputId": "17536f82-95f3-41d2-ef8e-55e060122a9b"
      },
      "execution_count": null,
      "outputs": [
        {
          "output_type": "stream",
          "name": "stdout",
          "text": [
            "Hopefully my grades will be like this: [5 4 4 5 5]\n"
          ]
        }
      ]
    },
    {
      "cell_type": "markdown",
      "source": [
        "2. Визначити список зі списками, де кожен рядок списку формально означає магазин, а кожна колонка - певний продукт (батон, яйця першої категорії, молоко та ковбаса), а елементами на пересічі є ціни на ці продукти відповідно. Використовуючи цей список, створити матрицю (двовимірний масив) numpy."
      ],
      "metadata": {
        "id": "OGeLtAwcjcMB"
      }
    },
    {
      "cell_type": "code",
      "source": [
        "prices = [\n",
        "    [15.5, 30.0, 25.0, 120.0],\n",
        "    [16.0, 28.5, 26.0, 115.0],\n",
        "    [14.8, 29.0, 24.5, 122.0],\n",
        "]\n",
        "prices_matrix = np.array(prices)\n",
        "print(prices)"
      ],
      "metadata": {
        "id": "zJ9kEAv5jcVo",
        "colab": {
          "base_uri": "https://localhost:8080/"
        },
        "outputId": "3e6da495-1e2f-4f48-d061-58b57dc00630"
      },
      "execution_count": null,
      "outputs": [
        {
          "output_type": "stream",
          "name": "stdout",
          "text": [
            "[[15.5, 30.0, 25.0, 120.0], [16.0, 28.5, 26.0, 115.0], [14.8, 29.0, 24.5, 122.0]]\n"
          ]
        }
      ]
    },
    {
      "cell_type": "markdown",
      "source": [
        "3. Отримайте тип даних значень з масивів завдань 2 та 3. Виведіть їх на екран."
      ],
      "metadata": {
        "id": "wK7wrEw2jcix"
      }
    },
    {
      "cell_type": "code",
      "source": [
        "print(mygrades_array.dtype)\n",
        "print(prices_matrix.dtype)"
      ],
      "metadata": {
        "id": "uDBL1x6vjcq9",
        "colab": {
          "base_uri": "https://localhost:8080/"
        },
        "outputId": "ad55719a-79e4-496c-de0f-aa8acd34ced3"
      },
      "execution_count": null,
      "outputs": [
        {
          "output_type": "stream",
          "name": "stdout",
          "text": [
            "int64\n",
            "float64\n"
          ]
        }
      ]
    },
    {
      "cell_type": "markdown",
      "source": [
        "4. Отримайте форми (кортеж з кількістю рядків та колонок) масивів завдань 2 та 3. Виведіть їх на екран."
      ],
      "metadata": {
        "id": "nNhAgsC3jcyp"
      }
    },
    {
      "cell_type": "code",
      "source": [
        "print(mygrades_array.shape)\n",
        "print(prices_matrix.shape)"
      ],
      "metadata": {
        "id": "Fi5oXTI8jc4-",
        "colab": {
          "base_uri": "https://localhost:8080/"
        },
        "outputId": "d04f13f3-5d1a-45f0-f3e2-f6f7a22d2e47"
      },
      "execution_count": null,
      "outputs": [
        {
          "output_type": "stream",
          "name": "stdout",
          "text": [
            "(5,)\n",
            "(3, 4)\n"
          ]
        }
      ]
    },
    {
      "cell_type": "markdown",
      "source": [
        "5. Створіть одновимірний масив за допомогою спеціальної функції numpy, який би відображав динаміку стабільно зростаючого (з рівними проміжками) прибутку з продажів  за тиждень, де у перший день не було продажів, а в останній день тижня вдалося заробити 1000 грн 50 коп."
      ],
      "metadata": {
        "id": "bpY-N8QZjdW-"
      }
    },
    {
      "cell_type": "code",
      "source": [
        "weekly_sales = np.linspace(0, 1000.50, 7)\n",
        "print(weekly_sales)"
      ],
      "metadata": {
        "id": "r3LcjnUKjdeu",
        "colab": {
          "base_uri": "https://localhost:8080/"
        },
        "outputId": "20a8ffa4-6c80-40ba-9b30-58cf273ac9e7"
      },
      "execution_count": null,
      "outputs": [
        {
          "output_type": "stream",
          "name": "stdout",
          "text": [
            "[   0.    166.75  333.5   500.25  667.    833.75 1000.5 ]\n"
          ]
        }
      ]
    },
    {
      "cell_type": "markdown",
      "source": [],
      "metadata": {
        "id": "UQY1tjORcz4Q"
      }
    },
    {
      "cell_type": "markdown",
      "source": [
        "6. Створіть два масиви. Використовуючи їх, продемонструйте відмінність вертикального та горизонтального обʼєднання масивів."
      ],
      "metadata": {
        "id": "zQM0SY9jjebO"
      }
    },
    {
      "cell_type": "code",
      "source": [
        "cheeseburgers = [7, 8, 3, 5]\n",
        "hamburgers = [1, 4, 9, 6]\n",
        "vertical = np.vstack((cheeseburgers, hamburgers))\n",
        "horisontal = np.hstack((cheeseburgers, hamburgers))\n",
        "print(vertical)\n",
        "print(horisontal)"
      ],
      "metadata": {
        "id": "8uoi0_lxjeh-",
        "colab": {
          "base_uri": "https://localhost:8080/"
        },
        "outputId": "fbc0e760-5cf6-478d-a412-9117f4409b55"
      },
      "execution_count": null,
      "outputs": [
        {
          "output_type": "stream",
          "name": "stdout",
          "text": [
            "[[7 8 3 5]\n",
            " [1 4 9 6]]\n",
            "[7 8 3 5 1 4 9 6]\n"
          ]
        }
      ]
    },
    {
      "cell_type": "markdown",
      "source": [
        "7. Визначити функцію, яка приймає на вході масив і транспонує його. Скористайтесь методом reshape. І не забудьте почати з docstrings."
      ],
      "metadata": {
        "id": "Fwh5D1pDm3t7"
      }
    },
    {
      "cell_type": "code",
      "source": [
        "def transpose_matrix(matrix):\n",
        "    \"\"\"\n",
        "    Transposes a given 2D numpy array (matrix).\n",
        "\n",
        "    Parameters:\n",
        "        matrix (numpy.ndarray): A 2D array to be transposed.\n",
        "\n",
        "    Returns:\n",
        "        numpy.ndarray: The transposed matrix.\n",
        "    \"\"\"\n",
        "    return matrix.T\n",
        "\n",
        "hours_worked = np.array([\n",
        "    [3, 4, 3],\n",
        "    [4, 2, 5],\n",
        "    [1, 3, 1],\n",
        "    [4, 2, 1]\n",
        "])\n",
        "\n",
        "print(\"Original matrix (hours worked over days on subjects):\")\n",
        "print(hours_worked)\n",
        "\n",
        "transposed_hours = transpose_matrix(hours_worked)\n",
        "\n",
        "print(\"\\nTransposed matrix (hours worked per day on each subject):\")\n",
        "print(transposed_hours)"
      ],
      "metadata": {
        "id": "FSWZq0mkm31Z",
        "colab": {
          "base_uri": "https://localhost:8080/"
        },
        "outputId": "bfe873b7-ffd6-407b-a200-c1cb713f18b6"
      },
      "execution_count": null,
      "outputs": [
        {
          "output_type": "stream",
          "name": "stdout",
          "text": [
            "Original matrix (hours worked over days on subjects):\n",
            "[[3 4 3]\n",
            " [4 2 5]\n",
            " [1 3 1]\n",
            " [4 2 1]]\n",
            "\n",
            "Transposed matrix (hours worked per day on each subject):\n",
            "[[3 4 1 4]\n",
            " [4 2 3 2]\n",
            " [3 5 1 1]]\n"
          ]
        }
      ]
    },
    {
      "cell_type": "markdown",
      "source": [
        "8. Створіть два масиви. Використовучи ці масиви, продемонструйте 1) операцію по-елементного додавання, 2) операцію по-елементного віднімання, 3) множення масиву на число, 4) операцію по-елементного множення, і 5) матричного множення."
      ],
      "metadata": {
        "id": "Nnxk8vqYm379"
      }
    },
    {
      "cell_type": "code",
      "source": [
        "shopping_cart_makeup = [6, 5, 7, 8, 1]\n",
        "shopping_cart_food = [2, 4, 9, 3, 5]\n",
        "\n",
        "shopping_cart_makeup = np.array(shopping_cart_makeup)\n",
        "shopping_cart_food = np.array(shopping_cart_food)\n",
        "\n",
        "element_add = shopping_cart_makeup + shopping_cart_food\n",
        "element_subtract = shopping_cart_makeup - shopping_cart_food\n",
        "multiply = shopping_cart_food * 7\n",
        "element_multiply = shopping_cart_makeup * shopping_cart_food\n",
        "matrix_multiply = np.dot(shopping_cart_makeup, shopping_cart_food)\n",
        "\n",
        "print(\"Makeup and food items :\", element_add)\n",
        "print(\"Makeup without food :\", element_subtract)\n",
        "print(\"Food for seven people:\", multiply)\n",
        "print(\"Multiplication :\", element_multiply)\n",
        "print(\"Matrix multiplication:\", matrix_multiply)\n"
      ],
      "metadata": {
        "id": "qO1rfvmVm4BI",
        "colab": {
          "base_uri": "https://localhost:8080/"
        },
        "outputId": "26b00c68-ab6b-470f-c38d-cac029453571"
      },
      "execution_count": 16,
      "outputs": [
        {
          "output_type": "stream",
          "name": "stdout",
          "text": [
            "Makeup and food items : [ 8  9 16 11  6]\n",
            "Makeup without food : [ 4  1 -2  5 -4]\n",
            "Food for seven people: [14 28 63 21 35]\n",
            "Multiplication : [12 20 63 24  5]\n",
            "Matrix multiplication: 124\n"
          ]
        }
      ]
    },
    {
      "cell_type": "markdown",
      "source": [
        "9. Створіть двовимірний масив (матрицю) та розрахуйте: 1) мінімальне число, 2) максимальне число, 3) суму чисел, 4) мінімальні числа для кожного рядка, 5) максимальні числа для кожного стовпчика."
      ],
      "metadata": {
        "id": "7aGdszTGuMCC"
      }
    },
    {
      "cell_type": "code",
      "source": [
        "cheeseburgers = np.array([\n",
        "    [12, 15, 7, 9],\n",
        "    [8, 14, 10, 5],\n",
        "    [19, 3, 11, 6],\n",
        "    [13, 18, 4, 2]\n",
        "])\n",
        "\n",
        "min = np.min(cheeseburgers)\n",
        "max = np.max(cheeseburgers)\n",
        "sum = np.sum(cheeseburgers)\n",
        "min_row = np.min(cheeseburgers, axis=1)\n",
        "max_column = np.max(cheeseburgers, axis=0)\n",
        "\n",
        "print(\"Min cheeseburgers eaten per day: \", min)\n",
        "print(\"Max cheeseburger eaten per day: \", max)\n",
        "print(\"Cheeseburgers eaten: \", sum)\n",
        "print(\"Min cheeseburgers for row: \", min_row)\n",
        "print(\"Max cheeseburgers for column: \", max_column)"
      ],
      "metadata": {
        "id": "RL_39YdauMKS",
        "colab": {
          "base_uri": "https://localhost:8080/"
        },
        "outputId": "0daecff6-01cb-41e0-e8f4-085cdc2464c1"
      },
      "execution_count": 17,
      "outputs": [
        {
          "output_type": "stream",
          "name": "stdout",
          "text": [
            "Min cheeseburgers eaten per day:  2\n",
            "Max cheeseburger eaten per day:  19\n",
            "Cheeseburgers eaten:  156\n",
            "Min cheeseburgers for row:  [7 5 3 2]\n",
            "Max cheeseburgers for column:  [19 18 11  9]\n"
          ]
        }
      ]
    },
    {
      "cell_type": "markdown",
      "source": [
        "10. Створіть матрицю , де деякі елементи повторюються. Знайдіть унікальні значення елементів цієї матриці та їхні частоти."
      ],
      "metadata": {
        "id": "c_hNdOpjHRFo"
      }
    },
    {
      "cell_type": "code",
      "source": [
        "movies = np.array([\n",
        "    [1, 2, 3, 1],\n",
        "    [2, 1, 3, 2],\n",
        "    [3, 1, 2, 3],\n",
        "    [2, 3, 1, 2]\n",
        "])\n",
        "\n",
        "unique_values, counts = np.unique(movies, return_counts=True)\n",
        "\n",
        "for value, count in zip(unique_values, counts):\n",
        "    print(f\"Movie: {value}, times watched: {count}\")"
      ],
      "metadata": {
        "colab": {
          "base_uri": "https://localhost:8080/"
        },
        "id": "RLxIDV6rRlm1",
        "outputId": "eea2e067-d356-46d7-a3c0-445949df3fa0"
      },
      "execution_count": 18,
      "outputs": [
        {
          "output_type": "stream",
          "name": "stdout",
          "text": [
            "Movie: 1, times watched: 5\n",
            "Movie: 2, times watched: 6\n",
            "Movie: 3, times watched: 5\n"
          ]
        }
      ]
    },
    {
      "cell_type": "markdown",
      "source": [
        "# II. Importing. Creating DF"
      ],
      "metadata": {
        "id": "Usj7tyjnprEV"
      }
    },
    {
      "cell_type": "markdown",
      "source": [
        "0. Імпортувати бібліотеку pandas"
      ],
      "metadata": {
        "id": "ePGNrYa6pxRY"
      }
    },
    {
      "cell_type": "code",
      "source": [
        "import pandas as pd"
      ],
      "metadata": {
        "id": "KIPDNBqQpvkI"
      },
      "execution_count": 2,
      "outputs": []
    },
    {
      "cell_type": "markdown",
      "source": [
        "11. Створити тестовий датафрейм зі списку, що містить записи пацієнтів про їхні прізвища, імена, дату народження, масу тіла та наявність медичного страхування. Одне зі значень зробить пустим. Ознайомтесь з типом кожної колонки."
      ],
      "metadata": {
        "id": "8g9-hgi5qWJv"
      }
    },
    {
      "cell_type": "code",
      "source": [
        "patients_info = {\n",
        "    'Last Name': ['Cookie', 'Mango', 'Sherbet', 'Shining', 'Hollyberry'],\n",
        "    'First Name': ['Cadence', 'Candy', 'Pookie', 'Jack', 'Meow'],\n",
        "    'Birth Date': ['1977-07-07', '1990-08-21',np.nan, '1999-01-30', '2000-11-30'],\n",
        "    'Weight (kg)': [70, np.nan, 80, 40, 90],\n",
        "    'Health Insurance': [True, False, True, True, np.nan]\n",
        "}\n",
        "\n",
        "patience_infodf = pd.DataFrame(patients_info)"
      ],
      "metadata": {
        "id": "OvA4GvJ5qYb1"
      },
      "execution_count": null,
      "outputs": []
    },
    {
      "cell_type": "code",
      "source": [
        "print(patience_infodf.dtypes)\n",
        "print(patience_infodf)"
      ],
      "metadata": {
        "id": "9ioPRVvxqcQ7",
        "colab": {
          "base_uri": "https://localhost:8080/"
        },
        "outputId": "64160695-d1f5-4e10-eb94-750da3a9d3c0"
      },
      "execution_count": null,
      "outputs": [
        {
          "output_type": "stream",
          "name": "stdout",
          "text": [
            "Last Name            object\n",
            "First Name           object\n",
            "Birth Date           object\n",
            "Weight (kg)         float64\n",
            "Health Insurance     object\n",
            "dtype: object\n",
            "    Last Name First Name  Birth Date  Weight (kg) Health Insurance\n",
            "0      Cookie    Cadence  1977-07-07         70.0             True\n",
            "1       Mango      Candy  1990-08-21          NaN            False\n",
            "2     Sherbet     Pookie         NaN         80.0             True\n",
            "3     Shining       Jack  1999-01-30         40.0             True\n",
            "4  Hollyberry       Meow  2000-11-30         90.0              NaN\n"
          ]
        }
      ]
    },
    {
      "cell_type": "markdown",
      "source": [
        "# III. Reading from file"
      ],
      "metadata": {
        "id": "b1SvVHjjqcv-"
      }
    },
    {
      "cell_type": "markdown",
      "source": [
        "12. Завантажити файл missile_attacks_daily.csv з [Kaggle](https://www.kaggle.com/datasets/piterfm/massive-missile-attacks-on-ukraine?select=missile_attacks_daily.csv). Ознайомитись з описом датасету. Додати файл до папки поточної сесії colab notebook на панелі ліворуч або на гугл диск (локально до проєкту, якщо працюєте у пайчармі). Зчитати датафрейм з файлу та вивести датафрейм на екран. Зверніть увагу на те, щоб всі колонки відповідали наведеним у описі типам даних."
      ],
      "metadata": {
        "id": "7HhZWLs_qhgq"
      }
    },
    {
      "cell_type": "code",
      "source": [
        "attacks_data = pd.read_csv('missile_attacks_daily.csv')\n",
        "\n",
        "print(attacks_data.dtypes)"
      ],
      "metadata": {
        "id": "oQcB3kIqqg0h",
        "colab": {
          "base_uri": "https://localhost:8080/"
        },
        "outputId": "7797d773-2f42-40a7-f4b3-baf124bac99c"
      },
      "execution_count": 5,
      "outputs": [
        {
          "output_type": "stream",
          "name": "stdout",
          "text": [
            "time_start               object\n",
            "time_end                 object\n",
            "model                    object\n",
            "launch_place             object\n",
            "target                   object\n",
            "carrier                  object\n",
            "launched                float64\n",
            "destroyed                 int64\n",
            "not_reach_goal          float64\n",
            "cross_border_belarus    float64\n",
            "back_russia             float64\n",
            "still_attacking         float64\n",
            "destroyed_details        object\n",
            "launched_details         object\n",
            "launch_place_details     object\n",
            "source                   object\n",
            "dtype: object\n"
          ]
        }
      ]
    },
    {
      "cell_type": "markdown",
      "source": [
        "# IV. Data understanding"
      ],
      "metadata": {
        "id": "89zu0WNErzd2"
      }
    },
    {
      "cell_type": "markdown",
      "source": [
        "13. Виведіть на екран перші 10 рядків зчитаного датафрейму."
      ],
      "metadata": {
        "id": "LJqrTfHr2d1G"
      }
    },
    {
      "cell_type": "code",
      "source": [
        "print(attacks_data.head(10))"
      ],
      "metadata": {
        "id": "GdVE9WYwr1sD",
        "colab": {
          "base_uri": "https://localhost:8080/"
        },
        "outputId": "e5b3c8ac-5091-49cb-c335-6c236836e2d6"
      },
      "execution_count": 4,
      "outputs": [
        {
          "output_type": "stream",
          "name": "stdout",
          "text": [
            "         time_start          time_end             model  \\\n",
            "0  2025-01-25 19:00  2025-01-26 09:00    Shahed-136/131   \n",
            "1  2025-01-24 19:00  2025-01-25 09:30    Shahed-136/131   \n",
            "2  2025-01-24 18:30  2025-01-24 19:30         X-59/X-69   \n",
            "3  2025-01-23 21:00  2025-01-24 09:00    Shahed-136/131   \n",
            "4  2025-01-22 19:00  2025-01-23 09:30    Shahed-136/131   \n",
            "5  2025-01-23 04:00  2025-01-23 04:30  Iskander-M/KN-23   \n",
            "6  2025-01-21 19:00  2025-01-22 10:00    Shahed-136/131   \n",
            "7  2025-01-20 20:00  2025-01-21 09:00    Shahed-136/131   \n",
            "8  2025-01-20 20:00  2025-01-21 09:00        Iskander-M   \n",
            "9  2025-01-19 19:00  2025-01-20 08:00    Shahed-136/131   \n",
            "\n",
            "                                        launch_place        target carrier  \\\n",
            "0  Primorsko-Akhtarsk and Kursk oblast and Bryans...       Ukraine     NaN   \n",
            "1  Primorsko-Akhtarsk and Kursk oblast and Bryans...       Ukraine     NaN   \n",
            "2                                          Black Sea  Odesa oblast     NaN   \n",
            "3  Primorsko-Akhtarsk and Kursk oblast and Bryans...       Ukraine     NaN   \n",
            "4  Primorsko-Akhtarsk and Kursk oblast and Bryans...       Ukraine     NaN   \n",
            "5                                    Voronezh oblast  Zaporizhzhia     NaN   \n",
            "6  Primorsko-Akhtarsk and Crimea and Bryansk obla...       Ukraine     NaN   \n",
            "7  Primorsko-Akhtarsk and Oryol oblast and Millerovo       Ukraine     NaN   \n",
            "8                                    Voronezh oblast       Ukraine     NaN   \n",
            "9  Primorsko-Akhtarsk and Kursk oblast and Bryans...       Ukraine     NaN   \n",
            "\n",
            "   launched  destroyed  not_reach_goal  cross_border_belarus  back_russia  \\\n",
            "0      72.0         50             9.0                   NaN          NaN   \n",
            "1      61.0         46            15.0                   NaN          NaN   \n",
            "2       2.0          2             NaN                   NaN          NaN   \n",
            "3      58.0         25            27.0                   NaN          NaN   \n",
            "4      92.0         57            27.0                   NaN          NaN   \n",
            "5       4.0          0             NaN                   NaN          NaN   \n",
            "6      99.0         65            30.0                   NaN          NaN   \n",
            "7     131.0         72            59.0                   NaN          NaN   \n",
            "8       4.0          0             NaN                   NaN          NaN   \n",
            "9     141.0         93            45.0                   NaN          2.0   \n",
            "\n",
            "   still_attacking                                  destroyed_details  \\\n",
            "0              1.0  {'Khmelnytskyi oblast': 12, 'Odesa oblast': 4,...   \n",
            "1              NaN  {'Khmelnytskyi oblast': 4, 'Odesa oblast': NaN...   \n",
            "2              NaN                                                NaN   \n",
            "3              NaN  {'Lviv oblast and Khmelnytskyi oblast': 9, 'Su...   \n",
            "4              3.0  {'Mykolaiv oblast and Kherson oblast': 12, 'Su...   \n",
            "5              NaN                                                NaN   \n",
            "6              NaN  {'Odesa oblast and Mykolaiv oblast': 13, 'Khme...   \n",
            "7              NaN  {'Odesa oblast and Mykolaiv oblast': 10, 'Khme...   \n",
            "8              NaN                                                NaN   \n",
            "9              NaN  {'Mykolaiv oblast and Kherson oblast': 3, 'Khm...   \n",
            "\n",
            "  launched_details launch_place_details  \\\n",
            "0              NaN                  NaN   \n",
            "1              NaN                  NaN   \n",
            "2              NaN                  NaN   \n",
            "3              NaN                  NaN   \n",
            "4              NaN                  NaN   \n",
            "5              NaN                  NaN   \n",
            "6              NaN                  NaN   \n",
            "7              NaN                  NaN   \n",
            "8              NaN                  NaN   \n",
            "9              NaN                  NaN   \n",
            "\n",
            "                                              source  \n",
            "0  kpszsu/posts/pfbid029aBrTrQjRGnpt3rGXRF331eowP...  \n",
            "1  kpszsu/posts/pfbid02CncG3LTpU6YEX2vwpHerqBJ7So...  \n",
            "2  kpszsu/posts/pfbid02CncG3LTpU6YEX2vwpHerqBJ7So...  \n",
            "3  kpszsu/posts/pfbid07KFB5c6v4JxyQ1cNvcNtRr9Tcxm...  \n",
            "4  kpszsu/posts/pfbid0AUPZB1WmFhHKmkwVk8BYVCw7gJa...  \n",
            "5  kpszsu/posts/pfbid0AUPZB1WmFhHKmkwVk8BYVCw7gJa...  \n",
            "6  kpszsu/posts/pfbid0SddWy51WgWJVTpdGFLQbt4V1U9D...  \n",
            "7  kpszsu/posts/pfbid0Dva3Yo2MSNjq45qSwvrvTjk3qFV...  \n",
            "8  kpszsu/posts/pfbid0Dva3Yo2MSNjq45qSwvrvTjk3qFV...  \n",
            "9  kpszsu/posts/pfbid02U5W3Bnpxin2MbKE9mBMnwmtmyD...  \n"
          ]
        }
      ]
    },
    {
      "cell_type": "markdown",
      "source": [
        "14. Отримайте інформацію про форму датафрейму."
      ],
      "metadata": {
        "id": "1PtkLHWj2lq0"
      }
    },
    {
      "cell_type": "code",
      "source": [
        "print(attacks_data.shape)"
      ],
      "metadata": {
        "id": "CBPTYTjV2mtG",
        "colab": {
          "base_uri": "https://localhost:8080/"
        },
        "outputId": "885a7e99-5a05-45bd-cd26-982f66970f00"
      },
      "execution_count": null,
      "outputs": [
        {
          "output_type": "stream",
          "name": "stdout",
          "text": [
            "(2056, 16)\n"
          ]
        }
      ]
    },
    {
      "cell_type": "markdown",
      "source": [
        "15. Отримайте дані про кожну колонку з її назвою, типом даних та кількістю непустих значень."
      ],
      "metadata": {
        "id": "GDVcFC6F2yVz"
      }
    },
    {
      "cell_type": "code",
      "source": [
        "attacks_data.info()"
      ],
      "metadata": {
        "id": "GTRgfKJ920bn",
        "colab": {
          "base_uri": "https://localhost:8080/"
        },
        "outputId": "ba191f78-8f81-4ee0-a9d8-75a7359dd451"
      },
      "execution_count": null,
      "outputs": [
        {
          "output_type": "stream",
          "name": "stdout",
          "text": [
            "<class 'pandas.core.frame.DataFrame'>\n",
            "RangeIndex: 2056 entries, 0 to 2055\n",
            "Data columns (total 16 columns):\n",
            " #   Column                Non-Null Count  Dtype  \n",
            "---  ------                --------------  -----  \n",
            " 0   time_start            2056 non-null   object \n",
            " 1   time_end              2056 non-null   object \n",
            " 2   model                 2056 non-null   object \n",
            " 3   launch_place          1034 non-null   object \n",
            " 4   target                2028 non-null   object \n",
            " 5   carrier               225 non-null    object \n",
            " 6   launched              2053 non-null   float64\n",
            " 7   destroyed             2056 non-null   int64  \n",
            " 8   not_reach_goal        164 non-null    float64\n",
            " 9   cross_border_belarus  32 non-null     float64\n",
            " 10  back_russia           35 non-null     float64\n",
            " 11  still_attacking       30 non-null     float64\n",
            " 12  destroyed_details     301 non-null    object \n",
            " 13  launched_details      4 non-null      object \n",
            " 14  launch_place_details  4 non-null      object \n",
            " 15  source                2056 non-null   object \n",
            "dtypes: float64(5), int64(1), object(10)\n",
            "memory usage: 257.1+ KB\n"
          ]
        }
      ]
    },
    {
      "cell_type": "markdown",
      "source": [
        "16. Отримайте статистику для колонок числового типу."
      ],
      "metadata": {
        "id": "DEy-hgsw2452"
      }
    },
    {
      "cell_type": "code",
      "source": [
        "attacks_data.describe()"
      ],
      "metadata": {
        "id": "94mI2N9t267Q",
        "colab": {
          "base_uri": "https://localhost:8080/",
          "height": 300
        },
        "outputId": "49ed3110-5e3e-4215-d475-d5f245c35fc4"
      },
      "execution_count": null,
      "outputs": [
        {
          "output_type": "execute_result",
          "data": {
            "text/plain": [
              "          launched    destroyed  not_reach_goal  cross_border_belarus  \\\n",
              "count  2053.000000  2056.000000      164.000000             32.000000   \n",
              "mean     10.872382     7.647860       21.231707              2.312500   \n",
              "std      21.605295    14.506397       19.812804              2.054696   \n",
              "min       1.000000     0.000000        1.000000              1.000000   \n",
              "25%       1.000000     1.000000        4.000000              1.000000   \n",
              "50%       2.000000     1.000000       16.000000              2.000000   \n",
              "75%       9.000000     7.000000       30.000000              2.000000   \n",
              "max     193.000000    99.000000      105.000000             10.000000   \n",
              "\n",
              "       back_russia  still_attacking  \n",
              "count    35.000000        30.000000  \n",
              "mean      2.000000         2.766667  \n",
              "std       1.137593         2.848876  \n",
              "min       1.000000         1.000000  \n",
              "25%       1.000000         1.000000  \n",
              "50%       2.000000         1.000000  \n",
              "75%       3.000000         3.750000  \n",
              "max       5.000000        10.000000  "
            ],
            "text/html": [
              "\n",
              "  <div id=\"df-36a4e9d9-4b95-4904-973b-91e2f8938b7a\" class=\"colab-df-container\">\n",
              "    <div>\n",
              "<style scoped>\n",
              "    .dataframe tbody tr th:only-of-type {\n",
              "        vertical-align: middle;\n",
              "    }\n",
              "\n",
              "    .dataframe tbody tr th {\n",
              "        vertical-align: top;\n",
              "    }\n",
              "\n",
              "    .dataframe thead th {\n",
              "        text-align: right;\n",
              "    }\n",
              "</style>\n",
              "<table border=\"1\" class=\"dataframe\">\n",
              "  <thead>\n",
              "    <tr style=\"text-align: right;\">\n",
              "      <th></th>\n",
              "      <th>launched</th>\n",
              "      <th>destroyed</th>\n",
              "      <th>not_reach_goal</th>\n",
              "      <th>cross_border_belarus</th>\n",
              "      <th>back_russia</th>\n",
              "      <th>still_attacking</th>\n",
              "    </tr>\n",
              "  </thead>\n",
              "  <tbody>\n",
              "    <tr>\n",
              "      <th>count</th>\n",
              "      <td>2053.000000</td>\n",
              "      <td>2056.000000</td>\n",
              "      <td>164.000000</td>\n",
              "      <td>32.000000</td>\n",
              "      <td>35.000000</td>\n",
              "      <td>30.000000</td>\n",
              "    </tr>\n",
              "    <tr>\n",
              "      <th>mean</th>\n",
              "      <td>10.872382</td>\n",
              "      <td>7.647860</td>\n",
              "      <td>21.231707</td>\n",
              "      <td>2.312500</td>\n",
              "      <td>2.000000</td>\n",
              "      <td>2.766667</td>\n",
              "    </tr>\n",
              "    <tr>\n",
              "      <th>std</th>\n",
              "      <td>21.605295</td>\n",
              "      <td>14.506397</td>\n",
              "      <td>19.812804</td>\n",
              "      <td>2.054696</td>\n",
              "      <td>1.137593</td>\n",
              "      <td>2.848876</td>\n",
              "    </tr>\n",
              "    <tr>\n",
              "      <th>min</th>\n",
              "      <td>1.000000</td>\n",
              "      <td>0.000000</td>\n",
              "      <td>1.000000</td>\n",
              "      <td>1.000000</td>\n",
              "      <td>1.000000</td>\n",
              "      <td>1.000000</td>\n",
              "    </tr>\n",
              "    <tr>\n",
              "      <th>25%</th>\n",
              "      <td>1.000000</td>\n",
              "      <td>1.000000</td>\n",
              "      <td>4.000000</td>\n",
              "      <td>1.000000</td>\n",
              "      <td>1.000000</td>\n",
              "      <td>1.000000</td>\n",
              "    </tr>\n",
              "    <tr>\n",
              "      <th>50%</th>\n",
              "      <td>2.000000</td>\n",
              "      <td>1.000000</td>\n",
              "      <td>16.000000</td>\n",
              "      <td>2.000000</td>\n",
              "      <td>2.000000</td>\n",
              "      <td>1.000000</td>\n",
              "    </tr>\n",
              "    <tr>\n",
              "      <th>75%</th>\n",
              "      <td>9.000000</td>\n",
              "      <td>7.000000</td>\n",
              "      <td>30.000000</td>\n",
              "      <td>2.000000</td>\n",
              "      <td>3.000000</td>\n",
              "      <td>3.750000</td>\n",
              "    </tr>\n",
              "    <tr>\n",
              "      <th>max</th>\n",
              "      <td>193.000000</td>\n",
              "      <td>99.000000</td>\n",
              "      <td>105.000000</td>\n",
              "      <td>10.000000</td>\n",
              "      <td>5.000000</td>\n",
              "      <td>10.000000</td>\n",
              "    </tr>\n",
              "  </tbody>\n",
              "</table>\n",
              "</div>\n",
              "    <div class=\"colab-df-buttons\">\n",
              "\n",
              "  <div class=\"colab-df-container\">\n",
              "    <button class=\"colab-df-convert\" onclick=\"convertToInteractive('df-36a4e9d9-4b95-4904-973b-91e2f8938b7a')\"\n",
              "            title=\"Convert this dataframe to an interactive table.\"\n",
              "            style=\"display:none;\">\n",
              "\n",
              "  <svg xmlns=\"http://www.w3.org/2000/svg\" height=\"24px\" viewBox=\"0 -960 960 960\">\n",
              "    <path d=\"M120-120v-720h720v720H120Zm60-500h600v-160H180v160Zm220 220h160v-160H400v160Zm0 220h160v-160H400v160ZM180-400h160v-160H180v160Zm440 0h160v-160H620v160ZM180-180h160v-160H180v160Zm440 0h160v-160H620v160Z\"/>\n",
              "  </svg>\n",
              "    </button>\n",
              "\n",
              "  <style>\n",
              "    .colab-df-container {\n",
              "      display:flex;\n",
              "      gap: 12px;\n",
              "    }\n",
              "\n",
              "    .colab-df-convert {\n",
              "      background-color: #E8F0FE;\n",
              "      border: none;\n",
              "      border-radius: 50%;\n",
              "      cursor: pointer;\n",
              "      display: none;\n",
              "      fill: #1967D2;\n",
              "      height: 32px;\n",
              "      padding: 0 0 0 0;\n",
              "      width: 32px;\n",
              "    }\n",
              "\n",
              "    .colab-df-convert:hover {\n",
              "      background-color: #E2EBFA;\n",
              "      box-shadow: 0px 1px 2px rgba(60, 64, 67, 0.3), 0px 1px 3px 1px rgba(60, 64, 67, 0.15);\n",
              "      fill: #174EA6;\n",
              "    }\n",
              "\n",
              "    .colab-df-buttons div {\n",
              "      margin-bottom: 4px;\n",
              "    }\n",
              "\n",
              "    [theme=dark] .colab-df-convert {\n",
              "      background-color: #3B4455;\n",
              "      fill: #D2E3FC;\n",
              "    }\n",
              "\n",
              "    [theme=dark] .colab-df-convert:hover {\n",
              "      background-color: #434B5C;\n",
              "      box-shadow: 0px 1px 3px 1px rgba(0, 0, 0, 0.15);\n",
              "      filter: drop-shadow(0px 1px 2px rgba(0, 0, 0, 0.3));\n",
              "      fill: #FFFFFF;\n",
              "    }\n",
              "  </style>\n",
              "\n",
              "    <script>\n",
              "      const buttonEl =\n",
              "        document.querySelector('#df-36a4e9d9-4b95-4904-973b-91e2f8938b7a button.colab-df-convert');\n",
              "      buttonEl.style.display =\n",
              "        google.colab.kernel.accessAllowed ? 'block' : 'none';\n",
              "\n",
              "      async function convertToInteractive(key) {\n",
              "        const element = document.querySelector('#df-36a4e9d9-4b95-4904-973b-91e2f8938b7a');\n",
              "        const dataTable =\n",
              "          await google.colab.kernel.invokeFunction('convertToInteractive',\n",
              "                                                    [key], {});\n",
              "        if (!dataTable) return;\n",
              "\n",
              "        const docLinkHtml = 'Like what you see? Visit the ' +\n",
              "          '<a target=\"_blank\" href=https://colab.research.google.com/notebooks/data_table.ipynb>data table notebook</a>'\n",
              "          + ' to learn more about interactive tables.';\n",
              "        element.innerHTML = '';\n",
              "        dataTable['output_type'] = 'display_data';\n",
              "        await google.colab.output.renderOutput(dataTable, element);\n",
              "        const docLink = document.createElement('div');\n",
              "        docLink.innerHTML = docLinkHtml;\n",
              "        element.appendChild(docLink);\n",
              "      }\n",
              "    </script>\n",
              "  </div>\n",
              "\n",
              "\n",
              "<div id=\"df-47601695-6824-4243-ad93-339821ddfcae\">\n",
              "  <button class=\"colab-df-quickchart\" onclick=\"quickchart('df-47601695-6824-4243-ad93-339821ddfcae')\"\n",
              "            title=\"Suggest charts\"\n",
              "            style=\"display:none;\">\n",
              "\n",
              "<svg xmlns=\"http://www.w3.org/2000/svg\" height=\"24px\"viewBox=\"0 0 24 24\"\n",
              "     width=\"24px\">\n",
              "    <g>\n",
              "        <path d=\"M19 3H5c-1.1 0-2 .9-2 2v14c0 1.1.9 2 2 2h14c1.1 0 2-.9 2-2V5c0-1.1-.9-2-2-2zM9 17H7v-7h2v7zm4 0h-2V7h2v10zm4 0h-2v-4h2v4z\"/>\n",
              "    </g>\n",
              "</svg>\n",
              "  </button>\n",
              "\n",
              "<style>\n",
              "  .colab-df-quickchart {\n",
              "      --bg-color: #E8F0FE;\n",
              "      --fill-color: #1967D2;\n",
              "      --hover-bg-color: #E2EBFA;\n",
              "      --hover-fill-color: #174EA6;\n",
              "      --disabled-fill-color: #AAA;\n",
              "      --disabled-bg-color: #DDD;\n",
              "  }\n",
              "\n",
              "  [theme=dark] .colab-df-quickchart {\n",
              "      --bg-color: #3B4455;\n",
              "      --fill-color: #D2E3FC;\n",
              "      --hover-bg-color: #434B5C;\n",
              "      --hover-fill-color: #FFFFFF;\n",
              "      --disabled-bg-color: #3B4455;\n",
              "      --disabled-fill-color: #666;\n",
              "  }\n",
              "\n",
              "  .colab-df-quickchart {\n",
              "    background-color: var(--bg-color);\n",
              "    border: none;\n",
              "    border-radius: 50%;\n",
              "    cursor: pointer;\n",
              "    display: none;\n",
              "    fill: var(--fill-color);\n",
              "    height: 32px;\n",
              "    padding: 0;\n",
              "    width: 32px;\n",
              "  }\n",
              "\n",
              "  .colab-df-quickchart:hover {\n",
              "    background-color: var(--hover-bg-color);\n",
              "    box-shadow: 0 1px 2px rgba(60, 64, 67, 0.3), 0 1px 3px 1px rgba(60, 64, 67, 0.15);\n",
              "    fill: var(--button-hover-fill-color);\n",
              "  }\n",
              "\n",
              "  .colab-df-quickchart-complete:disabled,\n",
              "  .colab-df-quickchart-complete:disabled:hover {\n",
              "    background-color: var(--disabled-bg-color);\n",
              "    fill: var(--disabled-fill-color);\n",
              "    box-shadow: none;\n",
              "  }\n",
              "\n",
              "  .colab-df-spinner {\n",
              "    border: 2px solid var(--fill-color);\n",
              "    border-color: transparent;\n",
              "    border-bottom-color: var(--fill-color);\n",
              "    animation:\n",
              "      spin 1s steps(1) infinite;\n",
              "  }\n",
              "\n",
              "  @keyframes spin {\n",
              "    0% {\n",
              "      border-color: transparent;\n",
              "      border-bottom-color: var(--fill-color);\n",
              "      border-left-color: var(--fill-color);\n",
              "    }\n",
              "    20% {\n",
              "      border-color: transparent;\n",
              "      border-left-color: var(--fill-color);\n",
              "      border-top-color: var(--fill-color);\n",
              "    }\n",
              "    30% {\n",
              "      border-color: transparent;\n",
              "      border-left-color: var(--fill-color);\n",
              "      border-top-color: var(--fill-color);\n",
              "      border-right-color: var(--fill-color);\n",
              "    }\n",
              "    40% {\n",
              "      border-color: transparent;\n",
              "      border-right-color: var(--fill-color);\n",
              "      border-top-color: var(--fill-color);\n",
              "    }\n",
              "    60% {\n",
              "      border-color: transparent;\n",
              "      border-right-color: var(--fill-color);\n",
              "    }\n",
              "    80% {\n",
              "      border-color: transparent;\n",
              "      border-right-color: var(--fill-color);\n",
              "      border-bottom-color: var(--fill-color);\n",
              "    }\n",
              "    90% {\n",
              "      border-color: transparent;\n",
              "      border-bottom-color: var(--fill-color);\n",
              "    }\n",
              "  }\n",
              "</style>\n",
              "\n",
              "  <script>\n",
              "    async function quickchart(key) {\n",
              "      const quickchartButtonEl =\n",
              "        document.querySelector('#' + key + ' button');\n",
              "      quickchartButtonEl.disabled = true;  // To prevent multiple clicks.\n",
              "      quickchartButtonEl.classList.add('colab-df-spinner');\n",
              "      try {\n",
              "        const charts = await google.colab.kernel.invokeFunction(\n",
              "            'suggestCharts', [key], {});\n",
              "      } catch (error) {\n",
              "        console.error('Error during call to suggestCharts:', error);\n",
              "      }\n",
              "      quickchartButtonEl.classList.remove('colab-df-spinner');\n",
              "      quickchartButtonEl.classList.add('colab-df-quickchart-complete');\n",
              "    }\n",
              "    (() => {\n",
              "      let quickchartButtonEl =\n",
              "        document.querySelector('#df-47601695-6824-4243-ad93-339821ddfcae button');\n",
              "      quickchartButtonEl.style.display =\n",
              "        google.colab.kernel.accessAllowed ? 'block' : 'none';\n",
              "    })();\n",
              "  </script>\n",
              "</div>\n",
              "    </div>\n",
              "  </div>\n"
            ],
            "application/vnd.google.colaboratory.intrinsic+json": {
              "type": "dataframe",
              "summary": "{\n  \"name\": \"attacks_data\",\n  \"rows\": 8,\n  \"fields\": [\n    {\n      \"column\": \"launched\",\n      \"properties\": {\n        \"dtype\": \"number\",\n        \"std\": 716.7756427703431,\n        \"min\": 1.0,\n        \"max\": 2053.0,\n        \"num_unique_values\": 7,\n        \"samples\": [\n          2053.0,\n          10.872381880175354,\n          9.0\n        ],\n        \"semantic_type\": \"\",\n        \"description\": \"\"\n      }\n    },\n    {\n      \"column\": \"destroyed\",\n      \"properties\": {\n        \"dtype\": \"number\",\n        \"std\": 721.0952107774671,\n        \"min\": 0.0,\n        \"max\": 2056.0,\n        \"num_unique_values\": 7,\n        \"samples\": [\n          2056.0,\n          7.647859922178989,\n          7.0\n        ],\n        \"semantic_type\": \"\",\n        \"description\": \"\"\n      }\n    },\n    {\n      \"column\": \"not_reach_goal\",\n      \"properties\": {\n        \"dtype\": \"number\",\n        \"std\": 58.117111071376605,\n        \"min\": 1.0,\n        \"max\": 164.0,\n        \"num_unique_values\": 8,\n        \"samples\": [\n          21.23170731707317,\n          16.0,\n          164.0\n        ],\n        \"semantic_type\": \"\",\n        \"description\": \"\"\n      }\n    },\n    {\n      \"column\": \"cross_border_belarus\",\n      \"properties\": {\n        \"dtype\": \"number\",\n        \"std\": 10.695653542968097,\n        \"min\": 1.0,\n        \"max\": 32.0,\n        \"num_unique_values\": 6,\n        \"samples\": [\n          32.0,\n          2.3125,\n          10.0\n        ],\n        \"semantic_type\": \"\",\n        \"description\": \"\"\n      }\n    },\n    {\n      \"column\": \"back_russia\",\n      \"properties\": {\n        \"dtype\": \"number\",\n        \"std\": 11.686816991170685,\n        \"min\": 1.0,\n        \"max\": 35.0,\n        \"num_unique_values\": 6,\n        \"samples\": [\n          35.0,\n          2.0,\n          5.0\n        ],\n        \"semantic_type\": \"\",\n        \"description\": \"\"\n      }\n    },\n    {\n      \"column\": \"still_attacking\",\n      \"properties\": {\n        \"dtype\": \"number\",\n        \"std\": 9.9287769698362,\n        \"min\": 1.0,\n        \"max\": 30.0,\n        \"num_unique_values\": 6,\n        \"samples\": [\n          30.0,\n          2.7666666666666666,\n          10.0\n        ],\n        \"semantic_type\": \"\",\n        \"description\": \"\"\n      }\n    }\n  ]\n}"
            }
          },
          "metadata": {},
          "execution_count": 26
        }
      ]
    },
    {
      "cell_type": "markdown",
      "source": [
        "17. Отримати кількість унікальних значень у кожній колонці. Вивести на екран значення та кількість цих значень у колонці, яка має найменше унікальних значень."
      ],
      "metadata": {
        "id": "n0MGJU2C2-iD"
      }
    },
    {
      "cell_type": "code",
      "source": [
        "unique_values = attacks_data.nunique()\n",
        "print(unique_values)"
      ],
      "metadata": {
        "id": "lQh_jdGe3BK5",
        "colab": {
          "base_uri": "https://localhost:8080/"
        },
        "outputId": "6e292c85-e77e-42fb-e745-18e1b2b90228"
      },
      "execution_count": null,
      "outputs": [
        {
          "output_type": "stream",
          "name": "stdout",
          "text": [
            "time_start               874\n",
            "time_end                1025\n",
            "model                     61\n",
            "launch_place             136\n",
            "target                    97\n",
            "carrier                   58\n",
            "launched                 117\n",
            "destroyed                 83\n",
            "not_reach_goal            56\n",
            "cross_border_belarus       7\n",
            "back_russia                5\n",
            "still_attacking            8\n",
            "destroyed_details        297\n",
            "launched_details           4\n",
            "launch_place_details       4\n",
            "source                   968\n",
            "dtype: int64\n"
          ]
        }
      ]
    },
    {
      "cell_type": "code",
      "source": [
        "min_unique_column = unique_values.idxmin()\n",
        "\n",
        "print(attacks_data[min_unique_column].value_counts())"
      ],
      "metadata": {
        "id": "BlAeyE2q3tgd",
        "colab": {
          "base_uri": "https://localhost:8080/"
        },
        "outputId": "766d7012-d1e4-4209-8aab-58b0027c3eff"
      },
      "execution_count": null,
      "outputs": [
        {
          "output_type": "stream",
          "name": "stdout",
          "text": [
            "launched_details\n",
            "{'X-101/X-555': 50, 'Kalibr': 12}                     1\n",
            "{'X-101/X-555': 55, 'Kalibr': 24, 'Iskander-K': 7}    1\n",
            "{'X-101/X-555': 57, 'Kalibr': 28}                     1\n",
            "{'X-101/X-555': 77, 'Kalibr': 28, 'X-59/X-69': 10}    1\n",
            "Name: count, dtype: int64\n"
          ]
        }
      ]
    },
    {
      "cell_type": "markdown",
      "source": [
        "18. На основі отриманої інформації про датасет вище, опишіть по пунктах, що б ви виправили або на що б звернули увагу на кроці очищення даних і чому?"
      ],
      "metadata": {
        "id": "iVRkzUti3uC_"
      }
    },
    {
      "cell_type": "markdown",
      "source": [
        "**місце для текстової відповіді**\n",
        "\n",
        "1.   Перевірити чи sources досі актуальні і існують, чи за посиланнями можна перейти\n",
        "2.   Перевірка на нелогічні значення, типу від'ємних\n",
        "3.   Є багато пустих значень, можливо заповнити плейсхолдерами\n",
        "4.   Очистити дублікати якщо є\n",
        "\n",
        "\n",
        "\n",
        "\n",
        "...\n"
      ],
      "metadata": {
        "id": "9_Q-Fcuo30zY"
      }
    },
    {
      "cell_type": "markdown",
      "source": [
        "# V. Data Cleaning"
      ],
      "metadata": {
        "id": "Ue9ECz5-3_pq"
      }
    },
    {
      "cell_type": "markdown",
      "source": [
        "19. Перетворити колонку launched у цілочислену (Int64). Перевірити, чи все пройшло, як очікувалось."
      ],
      "metadata": {
        "id": "ZtHUiSrV4CL-"
      }
    },
    {
      "cell_type": "code",
      "source": [
        "attacks_data['launched'] = attacks_data['launched'].astype('Int64')"
      ],
      "metadata": {
        "id": "AWyo_-Un3xqz"
      },
      "execution_count": null,
      "outputs": []
    },
    {
      "cell_type": "code",
      "source": [
        "print(attacks_data['launched'].dtype)"
      ],
      "metadata": {
        "id": "ys_OfWeQ4OjW",
        "colab": {
          "base_uri": "https://localhost:8080/"
        },
        "outputId": "6e8298d0-e150-4ad7-cc14-e23fe2c1c3ba"
      },
      "execution_count": null,
      "outputs": [
        {
          "output_type": "stream",
          "name": "stdout",
          "text": [
            "Int64\n"
          ]
        }
      ]
    },
    {
      "cell_type": "markdown",
      "source": [
        "20. Видалити колонки, де кількість непустих значень становить менше 30% від загальної кількості записів."
      ],
      "metadata": {
        "id": "KsHhM4EM4O3d"
      }
    },
    {
      "cell_type": "code",
      "source": [
        "non_null_percents = attacks_data.notnull().mean()\n",
        "attacks_data_cleaned = attacks_data.loc[:, non_null_percents >= 0.3]\n",
        "\n",
        "print(attacks_data_cleaned)"
      ],
      "metadata": {
        "id": "Z1ZCclle4Vyk",
        "colab": {
          "base_uri": "https://localhost:8080/"
        },
        "outputId": "2e7d3b79-c1e5-4f3b-f9d8-e51f4f59d6d5"
      },
      "execution_count": null,
      "outputs": [
        {
          "output_type": "stream",
          "name": "stdout",
          "text": [
            "            time_start          time_end               model  \\\n",
            "0     2025-01-25 19:00  2025-01-26 09:00      Shahed-136/131   \n",
            "1     2025-01-24 19:00  2025-01-25 09:30      Shahed-136/131   \n",
            "2     2025-01-24 18:30  2025-01-24 19:30           X-59/X-69   \n",
            "3     2025-01-23 21:00  2025-01-24 09:00      Shahed-136/131   \n",
            "4     2025-01-22 19:00  2025-01-23 09:30      Shahed-136/131   \n",
            "...                ...               ...                 ...   \n",
            "2051  2022-10-01 12:00  2022-10-01 12:00            Orlan-10   \n",
            "2052        2022-09-30        2022-09-30            Orlan-10   \n",
            "2053  2022-09-29 23:00  2022-09-29 23:59      Shahed-136/131   \n",
            "2054        2022-09-28        2022-09-28                X-59   \n",
            "2055        2022-09-28        2022-09-28  Reconnaissance UAV   \n",
            "\n",
            "                                           launch_place  \\\n",
            "0     Primorsko-Akhtarsk and Kursk oblast and Bryans...   \n",
            "1     Primorsko-Akhtarsk and Kursk oblast and Bryans...   \n",
            "2                                             Black Sea   \n",
            "3     Primorsko-Akhtarsk and Kursk oblast and Bryans...   \n",
            "4     Primorsko-Akhtarsk and Kursk oblast and Bryans...   \n",
            "...                                                 ...   \n",
            "2051                                                NaN   \n",
            "2052                                                NaN   \n",
            "2053                                                NaN   \n",
            "2054                                                NaN   \n",
            "2055                                                NaN   \n",
            "\n",
            "                                             target  launched  destroyed  \\\n",
            "0                                           Ukraine        72         50   \n",
            "1                                           Ukraine        61         46   \n",
            "2                                      Odesa oblast         2          2   \n",
            "3                                           Ukraine        58         25   \n",
            "4                                           Ukraine        92         57   \n",
            "...                                             ...       ...        ...   \n",
            "2051                                        Ukraine         1          1   \n",
            "2052                                        Ukraine         3          3   \n",
            "2053               Odesa oblast and Mykolaiv oblast         7          5   \n",
            "2054  Dnipropetrovsk oblast and Zaporizhzhia oblast         5          4   \n",
            "2055                                        Ukraine         3          3   \n",
            "\n",
            "                                                 source  \n",
            "0     kpszsu/posts/pfbid029aBrTrQjRGnpt3rGXRF331eowP...  \n",
            "1     kpszsu/posts/pfbid02CncG3LTpU6YEX2vwpHerqBJ7So...  \n",
            "2     kpszsu/posts/pfbid02CncG3LTpU6YEX2vwpHerqBJ7So...  \n",
            "3     kpszsu/posts/pfbid07KFB5c6v4JxyQ1cNvcNtRr9Tcxm...  \n",
            "4     kpszsu/posts/pfbid0AUPZB1WmFhHKmkwVk8BYVCw7gJa...  \n",
            "...                                                 ...  \n",
            "2051                           watch/?v=375517448001233  \n",
            "2052  kpszsu/posts/pfbid0nELeXY4BpHrezv54Lk3gWPZJmcC...  \n",
            "2053  kpszsu/posts/pfbid021aK2TqryAuB8gGrDYMTv3R8Xiu...  \n",
            "2054  kpszsu/posts/pfbid02sjn5m7kosAfsm5bSUzpPwbLuH3...  \n",
            "2055  kpszsu/posts/pfbid0grmBx6A5LbQ7PVTkSx7jTDgg4iU...  \n",
            "\n",
            "[2056 rows x 8 columns]\n"
          ]
        }
      ]
    },
    {
      "cell_type": "code",
      "source": [],
      "metadata": {
        "id": "MGrORLGe4XA2"
      },
      "execution_count": null,
      "outputs": []
    },
    {
      "cell_type": "markdown",
      "source": [
        "21. Очистити датафрейм від дублікатів (дублюючихся рядків) та записів, де атака продовжувалась відʼємну або нульову кількість часу (що фізично неможливо). Не забудьте оновити індекс. Скільки рядків було видалено? Як ви це перевірили у коді?"
      ],
      "metadata": {
        "id": "p8cD0M0U4cNT"
      }
    },
    {
      "cell_type": "code",
      "source": [
        "attacks_data_cleaned = attacks_data.drop_duplicates()\n",
        "attacks_data_cleaned = attacks_data_cleaned[attacks_data_cleaned['time_end'] > attacks_data_cleaned['time_start']]\n",
        "attacks_data_cleaned.reset_index(drop=True, inplace=True)\n",
        "\n",
        "rows_removed = len(attacks_data) - len(attacks_data_cleaned)\n",
        "\n",
        "print(f\"Removed {rows_removed} rows\")\n",
        "print(attacks_data_cleaned)"
      ],
      "metadata": {
        "id": "in3Fvn0I4l-I",
        "colab": {
          "base_uri": "https://localhost:8080/"
        },
        "outputId": "811effde-b5a1-4d75-a73e-dd1ee696f890"
      },
      "execution_count": 19,
      "outputs": [
        {
          "output_type": "stream",
          "name": "stdout",
          "text": [
            "Removed 841 rows\n",
            "            time_start          time_end           model  \\\n",
            "0     2025-01-25 19:00  2025-01-26 09:00  Shahed-136/131   \n",
            "1     2025-01-24 19:00  2025-01-25 09:30  Shahed-136/131   \n",
            "2     2025-01-24 18:30  2025-01-24 19:30       X-59/X-69   \n",
            "3     2025-01-23 21:00  2025-01-24 09:00  Shahed-136/131   \n",
            "4     2025-01-22 19:00  2025-01-23 09:30  Shahed-136/131   \n",
            "...                ...               ...             ...   \n",
            "1210  2022-10-06 09:00  2022-10-06 11:30       Mohajer-6   \n",
            "1211        2022-10-06  2022-10-06 02:00  Shahed-136/131   \n",
            "1212        2022-10-05  2022-10-05 02:00  Shahed-136/131   \n",
            "1213  2022-10-02 00:00  2022-10-02 02:00  Shahed-136/131   \n",
            "1214  2022-09-29 23:00  2022-09-29 23:59  Shahed-136/131   \n",
            "\n",
            "                                           launch_place  \\\n",
            "0     Primorsko-Akhtarsk and Kursk oblast and Bryans...   \n",
            "1     Primorsko-Akhtarsk and Kursk oblast and Bryans...   \n",
            "2                                             Black Sea   \n",
            "3     Primorsko-Akhtarsk and Kursk oblast and Bryans...   \n",
            "4     Primorsko-Akhtarsk and Kursk oblast and Bryans...   \n",
            "...                                                 ...   \n",
            "1210                                                NaN   \n",
            "1211                                                NaN   \n",
            "1212                                                NaN   \n",
            "1213                                                NaN   \n",
            "1214                                                NaN   \n",
            "\n",
            "                                target carrier  launched  destroyed  \\\n",
            "0                              Ukraine     NaN      72.0         50   \n",
            "1                              Ukraine     NaN      61.0         46   \n",
            "2                         Odesa oblast     NaN       2.0          2   \n",
            "3                              Ukraine     NaN      58.0         25   \n",
            "4                              Ukraine     NaN      92.0         57   \n",
            "...                                ...     ...       ...        ...   \n",
            "1210                   Mykolaiv oblast     NaN       1.0          1   \n",
            "1211                             south     NaN       9.0          9   \n",
            "1212                             south     NaN       6.0          6   \n",
            "1213                   Mykolaiv oblast     NaN       7.0          5   \n",
            "1214  Odesa oblast and Mykolaiv oblast     NaN       7.0          5   \n",
            "\n",
            "      not_reach_goal  cross_border_belarus  back_russia  still_attacking  \\\n",
            "0                9.0                   NaN          NaN              1.0   \n",
            "1               15.0                   NaN          NaN              NaN   \n",
            "2                NaN                   NaN          NaN              NaN   \n",
            "3               27.0                   NaN          NaN              NaN   \n",
            "4               27.0                   NaN          NaN              3.0   \n",
            "...              ...                   ...          ...              ...   \n",
            "1210             NaN                   NaN          NaN              NaN   \n",
            "1211             NaN                   NaN          NaN              NaN   \n",
            "1212             NaN                   NaN          NaN              NaN   \n",
            "1213             NaN                   NaN          NaN              NaN   \n",
            "1214             NaN                   NaN          NaN              NaN   \n",
            "\n",
            "                                      destroyed_details launched_details  \\\n",
            "0     {'Khmelnytskyi oblast': 12, 'Odesa oblast': 4,...              NaN   \n",
            "1     {'Khmelnytskyi oblast': 4, 'Odesa oblast': NaN...              NaN   \n",
            "2                                                   NaN              NaN   \n",
            "3     {'Lviv oblast and Khmelnytskyi oblast': 9, 'Su...              NaN   \n",
            "4     {'Mykolaiv oblast and Kherson oblast': 12, 'Su...              NaN   \n",
            "...                                                 ...              ...   \n",
            "1210                                                NaN              NaN   \n",
            "1211                                                NaN              NaN   \n",
            "1212                                                NaN              NaN   \n",
            "1213                                                NaN              NaN   \n",
            "1214                                                NaN              NaN   \n",
            "\n",
            "     launch_place_details                                             source  \n",
            "0                     NaN  kpszsu/posts/pfbid029aBrTrQjRGnpt3rGXRF331eowP...  \n",
            "1                     NaN  kpszsu/posts/pfbid02CncG3LTpU6YEX2vwpHerqBJ7So...  \n",
            "2                     NaN  kpszsu/posts/pfbid02CncG3LTpU6YEX2vwpHerqBJ7So...  \n",
            "3                     NaN  kpszsu/posts/pfbid07KFB5c6v4JxyQ1cNvcNtRr9Tcxm...  \n",
            "4                     NaN  kpszsu/posts/pfbid0AUPZB1WmFhHKmkwVk8BYVCw7gJa...  \n",
            "...                   ...                                                ...  \n",
            "1210                  NaN  kpszsu/posts/pfbid02YPkepucHoDQbmGfZURk8ScqNyM...  \n",
            "1211                  NaN  kpszsu/posts/pfbid0cUxYK69qorY8Td3GYrEifznzmJd...  \n",
            "1212                  NaN  kpszsu/posts/pfbid0ijKPtn19ybY71UFsnyhNA7YCx9i...  \n",
            "1213                  NaN  kpszsu/posts/pfbid021aK2TqryAuB8gGrDYMTv3R8Xiu...  \n",
            "1214                  NaN  kpszsu/posts/pfbid021aK2TqryAuB8gGrDYMTv3R8Xiu...  \n",
            "\n",
            "[1215 rows x 16 columns]\n"
          ]
        }
      ]
    },
    {
      "cell_type": "markdown",
      "source": [
        "Було видалено 841 рядок і я це перевірила порівнявши attack_data до та після очищення\n"
      ],
      "metadata": {
        "id": "8zqL82Ie4nqY"
      }
    },
    {
      "cell_type": "code",
      "source": [],
      "metadata": {
        "id": "GoHlOjXj4sIw"
      },
      "execution_count": null,
      "outputs": []
    },
    {
      "cell_type": "markdown",
      "source": [
        "22. Виведіть на екран всі рядки, де є хоч одне пропущене значення."
      ],
      "metadata": {
        "id": "6oZ7C_ry4uvb"
      }
    },
    {
      "cell_type": "code",
      "source": [
        "print(attacks_data[attacks_data.isnull().any(axis=1)])"
      ],
      "metadata": {
        "id": "BPmCTDtg4wVS",
        "colab": {
          "base_uri": "https://localhost:8080/"
        },
        "outputId": "b2fed221-f8a6-49a9-eceb-52c248d8ab18"
      },
      "execution_count": 5,
      "outputs": [
        {
          "output_type": "stream",
          "name": "stdout",
          "text": [
            "            time_start          time_end               model  \\\n",
            "0     2025-01-25 19:00  2025-01-26 09:00      Shahed-136/131   \n",
            "1     2025-01-24 19:00  2025-01-25 09:30      Shahed-136/131   \n",
            "2     2025-01-24 18:30  2025-01-24 19:30           X-59/X-69   \n",
            "3     2025-01-23 21:00  2025-01-24 09:00      Shahed-136/131   \n",
            "4     2025-01-22 19:00  2025-01-23 09:30      Shahed-136/131   \n",
            "...                ...               ...                 ...   \n",
            "2051  2022-10-01 12:00  2022-10-01 12:00            Orlan-10   \n",
            "2052        2022-09-30        2022-09-30            Orlan-10   \n",
            "2053  2022-09-29 23:00  2022-09-29 23:59      Shahed-136/131   \n",
            "2054        2022-09-28        2022-09-28                X-59   \n",
            "2055        2022-09-28        2022-09-28  Reconnaissance UAV   \n",
            "\n",
            "                                           launch_place  \\\n",
            "0     Primorsko-Akhtarsk and Kursk oblast and Bryans...   \n",
            "1     Primorsko-Akhtarsk and Kursk oblast and Bryans...   \n",
            "2                                             Black Sea   \n",
            "3     Primorsko-Akhtarsk and Kursk oblast and Bryans...   \n",
            "4     Primorsko-Akhtarsk and Kursk oblast and Bryans...   \n",
            "...                                                 ...   \n",
            "2051                                                NaN   \n",
            "2052                                                NaN   \n",
            "2053                                                NaN   \n",
            "2054                                                NaN   \n",
            "2055                                                NaN   \n",
            "\n",
            "                                             target carrier  launched  \\\n",
            "0                                           Ukraine     NaN      72.0   \n",
            "1                                           Ukraine     NaN      61.0   \n",
            "2                                      Odesa oblast     NaN       2.0   \n",
            "3                                           Ukraine     NaN      58.0   \n",
            "4                                           Ukraine     NaN      92.0   \n",
            "...                                             ...     ...       ...   \n",
            "2051                                        Ukraine     NaN       1.0   \n",
            "2052                                        Ukraine     NaN       3.0   \n",
            "2053               Odesa oblast and Mykolaiv oblast     NaN       7.0   \n",
            "2054  Dnipropetrovsk oblast and Zaporizhzhia oblast   Su-35       5.0   \n",
            "2055                                        Ukraine     NaN       3.0   \n",
            "\n",
            "      destroyed  not_reach_goal  cross_border_belarus  back_russia  \\\n",
            "0            50             9.0                   NaN          NaN   \n",
            "1            46            15.0                   NaN          NaN   \n",
            "2             2             NaN                   NaN          NaN   \n",
            "3            25            27.0                   NaN          NaN   \n",
            "4            57            27.0                   NaN          NaN   \n",
            "...         ...             ...                   ...          ...   \n",
            "2051          1             NaN                   NaN          NaN   \n",
            "2052          3             NaN                   NaN          NaN   \n",
            "2053          5             NaN                   NaN          NaN   \n",
            "2054          4             NaN                   NaN          NaN   \n",
            "2055          3             NaN                   NaN          NaN   \n",
            "\n",
            "      still_attacking                                  destroyed_details  \\\n",
            "0                 1.0  {'Khmelnytskyi oblast': 12, 'Odesa oblast': 4,...   \n",
            "1                 NaN  {'Khmelnytskyi oblast': 4, 'Odesa oblast': NaN...   \n",
            "2                 NaN                                                NaN   \n",
            "3                 NaN  {'Lviv oblast and Khmelnytskyi oblast': 9, 'Su...   \n",
            "4                 3.0  {'Mykolaiv oblast and Kherson oblast': 12, 'Su...   \n",
            "...               ...                                                ...   \n",
            "2051              NaN                                                NaN   \n",
            "2052              NaN                                                NaN   \n",
            "2053              NaN                                                NaN   \n",
            "2054              NaN                                                NaN   \n",
            "2055              NaN                                                NaN   \n",
            "\n",
            "     launched_details launch_place_details  \\\n",
            "0                 NaN                  NaN   \n",
            "1                 NaN                  NaN   \n",
            "2                 NaN                  NaN   \n",
            "3                 NaN                  NaN   \n",
            "4                 NaN                  NaN   \n",
            "...               ...                  ...   \n",
            "2051              NaN                  NaN   \n",
            "2052              NaN                  NaN   \n",
            "2053              NaN                  NaN   \n",
            "2054              NaN                  NaN   \n",
            "2055              NaN                  NaN   \n",
            "\n",
            "                                                 source  \n",
            "0     kpszsu/posts/pfbid029aBrTrQjRGnpt3rGXRF331eowP...  \n",
            "1     kpszsu/posts/pfbid02CncG3LTpU6YEX2vwpHerqBJ7So...  \n",
            "2     kpszsu/posts/pfbid02CncG3LTpU6YEX2vwpHerqBJ7So...  \n",
            "3     kpszsu/posts/pfbid07KFB5c6v4JxyQ1cNvcNtRr9Tcxm...  \n",
            "4     kpszsu/posts/pfbid0AUPZB1WmFhHKmkwVk8BYVCw7gJa...  \n",
            "...                                                 ...  \n",
            "2051                           watch/?v=375517448001233  \n",
            "2052  kpszsu/posts/pfbid0nELeXY4BpHrezv54Lk3gWPZJmcC...  \n",
            "2053  kpszsu/posts/pfbid021aK2TqryAuB8gGrDYMTv3R8Xiu...  \n",
            "2054  kpszsu/posts/pfbid02sjn5m7kosAfsm5bSUzpPwbLuH3...  \n",
            "2055  kpszsu/posts/pfbid0grmBx6A5LbQ7PVTkSx7jTDgg4iU...  \n",
            "\n",
            "[2056 rows x 16 columns]\n"
          ]
        }
      ]
    }
  ]
}